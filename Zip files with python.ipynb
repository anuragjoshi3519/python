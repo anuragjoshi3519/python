{
 "cells": [
  {
   "cell_type": "markdown",
   "metadata": {},
   "source": [
    "We will be using zipfile and shutil module for the purpose of compressing and decompressing"
   ]
  },
  {
   "cell_type": "code",
   "execution_count": 1,
   "metadata": {},
   "outputs": [],
   "source": [
    "import zipfile"
   ]
  },
  {
   "cell_type": "code",
   "execution_count": 2,
   "metadata": {},
   "outputs": [],
   "source": [
    "import shutil"
   ]
  },
  {
   "cell_type": "code",
   "execution_count": 3,
   "metadata": {},
   "outputs": [],
   "source": [
    "import os"
   ]
  },
  {
   "cell_type": "code",
   "execution_count": 4,
   "metadata": {},
   "outputs": [
    {
     "data": {
      "text/plain": [
       "'/mnt/5040930D4092F944/Deepak/Python'"
      ]
     },
     "execution_count": 4,
     "metadata": {},
     "output_type": "execute_result"
    }
   ],
   "source": [
    "os.getcwd()"
   ]
  },
  {
   "cell_type": "code",
   "execution_count": 20,
   "metadata": {},
   "outputs": [],
   "source": [
    "os.mkdir('sample_folder')"
   ]
  },
  {
   "cell_type": "code",
   "execution_count": 10,
   "metadata": {},
   "outputs": [
    {
     "ename": "FileExistsError",
     "evalue": "[Errno 17] File exists: 'sample folder/'",
     "output_type": "error",
     "traceback": [
      "\u001b[0;31m---------------------------------------------------------------------------\u001b[0m",
      "\u001b[0;31mFileExistsError\u001b[0m                           Traceback (most recent call last)",
      "\u001b[0;32m<ipython-input-10-0bc5bfabb9d5>\u001b[0m in \u001b[0;36m<module>\u001b[0;34m\u001b[0m\n\u001b[0;32m----> 1\u001b[0;31m \u001b[0mf\u001b[0m \u001b[0;34m=\u001b[0m \u001b[0mopen\u001b[0m\u001b[0;34m(\u001b[0m\u001b[0;34m'{}/{}/file1.txt'\u001b[0m\u001b[0;34m.\u001b[0m\u001b[0mformat\u001b[0m\u001b[0;34m(\u001b[0m\u001b[0mos\u001b[0m\u001b[0;34m.\u001b[0m\u001b[0mgetcwd\u001b[0m\u001b[0;34m(\u001b[0m\u001b[0;34m)\u001b[0m\u001b[0;34m,\u001b[0m\u001b[0mos\u001b[0m\u001b[0;34m.\u001b[0m\u001b[0mmkdir\u001b[0m\u001b[0;34m(\u001b[0m\u001b[0;34m'sample folder/'\u001b[0m\u001b[0;34m)\u001b[0m\u001b[0;34m)\u001b[0m\u001b[0;34m,\u001b[0m\u001b[0;34m'w'\u001b[0m\u001b[0;34m)\u001b[0m\u001b[0;34m\u001b[0m\u001b[0;34m\u001b[0m\u001b[0m\n\u001b[0m",
      "\u001b[0;31mFileExistsError\u001b[0m: [Errno 17] File exists: 'sample folder/'"
     ]
    }
   ],
   "source": [
    "f = open('{}/{}/file1.txt'.format(os.getcwd(),os.mkdir('sample folder/')),'w')"
   ]
  },
  {
   "cell_type": "code",
   "execution_count": 13,
   "metadata": {},
   "outputs": [],
   "source": [
    "os.rmdir('sample folder')"
   ]
  },
  {
   "cell_type": "code",
   "execution_count": 24,
   "metadata": {},
   "outputs": [
    {
     "data": {
      "text/plain": [
       "['mymodule.py',\n",
       " '.git',\n",
       " '.ipynb_checkpoints',\n",
       " 'Basic operators and some basic inbuilt functions.ipynb',\n",
       " 'Caesar cipher.ipynb',\n",
       " 'Control flow and loops.ipynb',\n",
       " 'Date and time.ipynb',\n",
       " 'Dictionary.ipynb',\n",
       " 'Error handling, exceptions and debugging.ipynb',\n",
       " 'Functions.ipynb',\n",
       " 'image0.jpg',\n",
       " 'image1.jpg',\n",
       " 'image2.jpg',\n",
       " 'image3.jpg',\n",
       " 'Lambda expressions, map() and filter().ipynb',\n",
       " 'List comprehensions.ipynb',\n",
       " 'Lists.ipynb',\n",
       " 'Modules and packages.ipynb',\n",
       " 'MyFirstNotebook.ipynb',\n",
       " 'Nested statements and scopes.ipynb',\n",
       " 'one.py',\n",
       " 'OOP review exercise.ipynb',\n",
       " 'OOPS exercise.ipynb',\n",
       " 'Playing with basic datatypes.ipynb',\n",
       " 'Reading and writing files with os.ipynb',\n",
       " 'README.md',\n",
       " 'Regular expressions.ipynb',\n",
       " 'samplefile.txt',\n",
       " 'Sets and booleans.ipynb',\n",
       " 'Test your basics.ipynb',\n",
       " 'Tuples.ipynb',\n",
       " 'two.py',\n",
       " 'Web scraping exercise.ipynb',\n",
       " 'Web scraping.ipynb',\n",
       " 'Working with files.ipynb',\n",
       " 'Zip files with python.ipynb',\n",
       " '__name__ and __main__.ipynb',\n",
       " '__pycache__']"
      ]
     },
     "execution_count": 24,
     "metadata": {},
     "output_type": "execute_result"
    }
   ],
   "source": [
    "os.listdir()"
   ]
  },
  {
   "cell_type": "code",
   "execution_count": 22,
   "metadata": {},
   "outputs": [],
   "source": [
    "os.rmdir('sample_folder')"
   ]
  },
  {
   "cell_type": "code",
   "execution_count": 25,
   "metadata": {},
   "outputs": [],
   "source": [
    "os.mkdir('sample folder')"
   ]
  },
  {
   "cell_type": "code",
   "execution_count": 26,
   "metadata": {},
   "outputs": [],
   "source": [
    "f = open('./sample folder/file1.txt','w')"
   ]
  },
  {
   "cell_type": "code",
   "execution_count": 27,
   "metadata": {},
   "outputs": [
    {
     "data": {
      "text/plain": [
       "17"
      ]
     },
     "execution_count": 27,
     "metadata": {},
     "output_type": "execute_result"
    }
   ],
   "source": [
    "f.write('this is some text')"
   ]
  },
  {
   "cell_type": "code",
   "execution_count": 28,
   "metadata": {},
   "outputs": [],
   "source": [
    "f.close()"
   ]
  },
  {
   "cell_type": "code",
   "execution_count": 31,
   "metadata": {},
   "outputs": [],
   "source": [
    "f = open('./sample folder/file12.txt','w')"
   ]
  },
  {
   "cell_type": "code",
   "execution_count": 32,
   "metadata": {},
   "outputs": [
    {
     "data": {
      "text/plain": [
       "17"
      ]
     },
     "execution_count": 32,
     "metadata": {},
     "output_type": "execute_result"
    }
   ],
   "source": [
    "f.write('this is some text')"
   ]
  },
  {
   "cell_type": "code",
   "execution_count": 33,
   "metadata": {},
   "outputs": [],
   "source": [
    "f.close()"
   ]
  },
  {
   "cell_type": "code",
   "execution_count": 34,
   "metadata": {},
   "outputs": [
    {
     "data": {
      "text/plain": [
       "['file1.txt', 'file12.txt']"
      ]
     },
     "execution_count": 34,
     "metadata": {},
     "output_type": "execute_result"
    }
   ],
   "source": [
    "os.listdir('sample folder')"
   ]
  },
  {
   "cell_type": "code",
   "execution_count": 35,
   "metadata": {},
   "outputs": [],
   "source": [
    "compressed_file = zipfile.ZipFile('mycompressed.zip','w')"
   ]
  },
  {
   "cell_type": "code",
   "execution_count": 36,
   "metadata": {},
   "outputs": [],
   "source": [
    "compressed_file.write('./sample folder/file1.txt',compress_type = zipfile.ZIP_DEFLATED)"
   ]
  },
  {
   "cell_type": "code",
   "execution_count": 37,
   "metadata": {},
   "outputs": [],
   "source": [
    "compressed_file.write('./sample folder/file12.txt',compress_type = zipfile.ZIP_DEFLATED)"
   ]
  },
  {
   "cell_type": "code",
   "execution_count": 38,
   "metadata": {},
   "outputs": [
    {
     "data": {
      "text/plain": [
       "['mymodule.py',\n",
       " '.git',\n",
       " '.ipynb_checkpoints',\n",
       " 'Basic operators and some basic inbuilt functions.ipynb',\n",
       " 'Caesar cipher.ipynb',\n",
       " 'Control flow and loops.ipynb',\n",
       " 'Date and time.ipynb',\n",
       " 'Dictionary.ipynb',\n",
       " 'Error handling, exceptions and debugging.ipynb',\n",
       " 'Functions.ipynb',\n",
       " 'image0.jpg',\n",
       " 'image1.jpg',\n",
       " 'image2.jpg',\n",
       " 'image3.jpg',\n",
       " 'Lambda expressions, map() and filter().ipynb',\n",
       " 'List comprehensions.ipynb',\n",
       " 'Lists.ipynb',\n",
       " 'Modules and packages.ipynb',\n",
       " 'mycompressed.zip',\n",
       " 'MyFirstNotebook.ipynb',\n",
       " 'Nested statements and scopes.ipynb',\n",
       " 'one.py',\n",
       " 'OOP review exercise.ipynb',\n",
       " 'OOPS exercise.ipynb',\n",
       " 'Playing with basic datatypes.ipynb',\n",
       " 'Reading and writing files with os.ipynb',\n",
       " 'README.md',\n",
       " 'Regular expressions.ipynb',\n",
       " 'sample folder',\n",
       " 'samplefile.txt',\n",
       " 'Sets and booleans.ipynb',\n",
       " 'Test your basics.ipynb',\n",
       " 'Tuples.ipynb',\n",
       " 'two.py',\n",
       " 'Web scraping exercise.ipynb',\n",
       " 'Web scraping.ipynb',\n",
       " 'Working with files.ipynb',\n",
       " 'Zip files with python.ipynb',\n",
       " '__name__ and __main__.ipynb',\n",
       " '__pycache__']"
      ]
     },
     "execution_count": 38,
     "metadata": {},
     "output_type": "execute_result"
    }
   ],
   "source": [
    "os.listdir()"
   ]
  },
  {
   "cell_type": "code",
   "execution_count": 39,
   "metadata": {},
   "outputs": [],
   "source": [
    "compressed_file.close()"
   ]
  },
  {
   "cell_type": "code",
   "execution_count": 44,
   "metadata": {},
   "outputs": [],
   "source": [
    "zip_obj = zipfile.ZipFile('mycompressed.zip','r')"
   ]
  },
  {
   "cell_type": "code",
   "execution_count": 45,
   "metadata": {},
   "outputs": [],
   "source": [
    "zip_obj.extractall('myextracted')"
   ]
  },
  {
   "cell_type": "code",
   "execution_count": 46,
   "metadata": {},
   "outputs": [],
   "source": [
    "zip_obj.close()"
   ]
  },
  {
   "cell_type": "code",
   "execution_count": 47,
   "metadata": {},
   "outputs": [
    {
     "data": {
      "text/plain": [
       "['mymodule.py',\n",
       " '.git',\n",
       " '.ipynb_checkpoints',\n",
       " 'Basic operators and some basic inbuilt functions.ipynb',\n",
       " 'Caesar cipher.ipynb',\n",
       " 'Control flow and loops.ipynb',\n",
       " 'Date and time.ipynb',\n",
       " 'Dictionary.ipynb',\n",
       " 'Error handling, exceptions and debugging.ipynb',\n",
       " 'Functions.ipynb',\n",
       " 'image0.jpg',\n",
       " 'image1.jpg',\n",
       " 'image2.jpg',\n",
       " 'image3.jpg',\n",
       " 'Lambda expressions, map() and filter().ipynb',\n",
       " 'List comprehensions.ipynb',\n",
       " 'Lists.ipynb',\n",
       " 'Modules and packages.ipynb',\n",
       " 'mycompressed.zip',\n",
       " 'myextracted',\n",
       " 'MyFirstNotebook.ipynb',\n",
       " 'Nested statements and scopes.ipynb',\n",
       " 'one.py',\n",
       " 'OOP review exercise.ipynb',\n",
       " 'OOPS exercise.ipynb',\n",
       " 'Playing with basic datatypes.ipynb',\n",
       " 'Reading and writing files with os.ipynb',\n",
       " 'README.md',\n",
       " 'Regular expressions.ipynb',\n",
       " 'sample folder',\n",
       " 'samplefile.txt',\n",
       " 'Sets and booleans.ipynb',\n",
       " 'Test your basics.ipynb',\n",
       " 'Tuples.ipynb',\n",
       " 'two.py',\n",
       " 'Web scraping exercise.ipynb',\n",
       " 'Web scraping.ipynb',\n",
       " 'Working with files.ipynb',\n",
       " 'Zip files with python.ipynb',\n",
       " '__name__ and __main__.ipynb',\n",
       " '__pycache__']"
      ]
     },
     "execution_count": 47,
     "metadata": {},
     "output_type": "execute_result"
    }
   ],
   "source": [
    "os.listdir()"
   ]
  },
  {
   "cell_type": "code",
   "execution_count": 50,
   "metadata": {},
   "outputs": [
    {
     "data": {
      "text/plain": [
       "['file1.txt', 'file12.txt']"
      ]
     },
     "execution_count": 50,
     "metadata": {},
     "output_type": "execute_result"
    }
   ],
   "source": [
    "os.listdir('myextracted/sample folder')"
   ]
  },
  {
   "cell_type": "code",
   "execution_count": 51,
   "metadata": {},
   "outputs": [],
   "source": [
    "shutil.rmtree('myextracted')"
   ]
  },
  {
   "cell_type": "code",
   "execution_count": 53,
   "metadata": {},
   "outputs": [],
   "source": [
    "os.unlink('mycompressed.zip')"
   ]
  },
  {
   "cell_type": "code",
   "execution_count": 54,
   "metadata": {},
   "outputs": [
    {
     "data": {
      "text/plain": [
       "['mymodule.py',\n",
       " '.git',\n",
       " '.ipynb_checkpoints',\n",
       " 'Basic operators and some basic inbuilt functions.ipynb',\n",
       " 'Caesar cipher.ipynb',\n",
       " 'Control flow and loops.ipynb',\n",
       " 'Date and time.ipynb',\n",
       " 'Dictionary.ipynb',\n",
       " 'Error handling, exceptions and debugging.ipynb',\n",
       " 'Functions.ipynb',\n",
       " 'image0.jpg',\n",
       " 'image1.jpg',\n",
       " 'image2.jpg',\n",
       " 'image3.jpg',\n",
       " 'Lambda expressions, map() and filter().ipynb',\n",
       " 'List comprehensions.ipynb',\n",
       " 'Lists.ipynb',\n",
       " 'Modules and packages.ipynb',\n",
       " 'MyFirstNotebook.ipynb',\n",
       " 'Nested statements and scopes.ipynb',\n",
       " 'one.py',\n",
       " 'OOP review exercise.ipynb',\n",
       " 'OOPS exercise.ipynb',\n",
       " 'Playing with basic datatypes.ipynb',\n",
       " 'Reading and writing files with os.ipynb',\n",
       " 'README.md',\n",
       " 'Regular expressions.ipynb',\n",
       " 'sample folder',\n",
       " 'samplefile.txt',\n",
       " 'Sets and booleans.ipynb',\n",
       " 'Test your basics.ipynb',\n",
       " 'Tuples.ipynb',\n",
       " 'two.py',\n",
       " 'Web scraping exercise.ipynb',\n",
       " 'Web scraping.ipynb',\n",
       " 'Working with files.ipynb',\n",
       " 'Zip files with python.ipynb',\n",
       " '__name__ and __main__.ipynb',\n",
       " '__pycache__']"
      ]
     },
     "execution_count": 54,
     "metadata": {},
     "output_type": "execute_result"
    }
   ],
   "source": [
    "os.listdir()"
   ]
  },
  {
   "cell_type": "markdown",
   "metadata": {},
   "source": [
    "## Using shutil module"
   ]
  },
  {
   "cell_type": "code",
   "execution_count": 55,
   "metadata": {},
   "outputs": [
    {
     "data": {
      "text/plain": [
       "'/mnt/5040930D4092F944/Deepak/Python/nycompressed.zip'"
      ]
     },
     "execution_count": 55,
     "metadata": {},
     "output_type": "execute_result"
    }
   ],
   "source": [
    "shutil.make_archive('nycompressed','zip','sample folder')"
   ]
  },
  {
   "cell_type": "code",
   "execution_count": 56,
   "metadata": {},
   "outputs": [
    {
     "data": {
      "text/plain": [
       "['mymodule.py',\n",
       " '.git',\n",
       " '.ipynb_checkpoints',\n",
       " 'Basic operators and some basic inbuilt functions.ipynb',\n",
       " 'Caesar cipher.ipynb',\n",
       " 'Control flow and loops.ipynb',\n",
       " 'Date and time.ipynb',\n",
       " 'Dictionary.ipynb',\n",
       " 'Error handling, exceptions and debugging.ipynb',\n",
       " 'Functions.ipynb',\n",
       " 'image0.jpg',\n",
       " 'image1.jpg',\n",
       " 'image2.jpg',\n",
       " 'image3.jpg',\n",
       " 'Lambda expressions, map() and filter().ipynb',\n",
       " 'List comprehensions.ipynb',\n",
       " 'Lists.ipynb',\n",
       " 'Modules and packages.ipynb',\n",
       " 'MyFirstNotebook.ipynb',\n",
       " 'Nested statements and scopes.ipynb',\n",
       " 'nycompressed.zip',\n",
       " 'one.py',\n",
       " 'OOP review exercise.ipynb',\n",
       " 'OOPS exercise.ipynb',\n",
       " 'Playing with basic datatypes.ipynb',\n",
       " 'Reading and writing files with os.ipynb',\n",
       " 'README.md',\n",
       " 'Regular expressions.ipynb',\n",
       " 'sample folder',\n",
       " 'samplefile.txt',\n",
       " 'Sets and booleans.ipynb',\n",
       " 'Test your basics.ipynb',\n",
       " 'Tuples.ipynb',\n",
       " 'two.py',\n",
       " 'Web scraping exercise.ipynb',\n",
       " 'Web scraping.ipynb',\n",
       " 'Working with files.ipynb',\n",
       " 'Zip files with python.ipynb',\n",
       " '__name__ and __main__.ipynb',\n",
       " '__pycache__']"
      ]
     },
     "execution_count": 56,
     "metadata": {},
     "output_type": "execute_result"
    }
   ],
   "source": [
    "os.listdir()"
   ]
  },
  {
   "cell_type": "code",
   "execution_count": 57,
   "metadata": {},
   "outputs": [],
   "source": [
    "os.rename('nycompressed.zip','mycompressed.zip')"
   ]
  },
  {
   "cell_type": "code",
   "execution_count": 58,
   "metadata": {},
   "outputs": [
    {
     "data": {
      "text/plain": [
       "['mymodule.py',\n",
       " '.git',\n",
       " '.ipynb_checkpoints',\n",
       " 'Basic operators and some basic inbuilt functions.ipynb',\n",
       " 'Caesar cipher.ipynb',\n",
       " 'Control flow and loops.ipynb',\n",
       " 'Date and time.ipynb',\n",
       " 'Dictionary.ipynb',\n",
       " 'Error handling, exceptions and debugging.ipynb',\n",
       " 'Functions.ipynb',\n",
       " 'image0.jpg',\n",
       " 'image1.jpg',\n",
       " 'image2.jpg',\n",
       " 'image3.jpg',\n",
       " 'Lambda expressions, map() and filter().ipynb',\n",
       " 'List comprehensions.ipynb',\n",
       " 'Lists.ipynb',\n",
       " 'Modules and packages.ipynb',\n",
       " 'mycompressed.zip',\n",
       " 'MyFirstNotebook.ipynb',\n",
       " 'Nested statements and scopes.ipynb',\n",
       " 'one.py',\n",
       " 'OOP review exercise.ipynb',\n",
       " 'OOPS exercise.ipynb',\n",
       " 'Playing with basic datatypes.ipynb',\n",
       " 'Reading and writing files with os.ipynb',\n",
       " 'README.md',\n",
       " 'Regular expressions.ipynb',\n",
       " 'sample folder',\n",
       " 'samplefile.txt',\n",
       " 'Sets and booleans.ipynb',\n",
       " 'Test your basics.ipynb',\n",
       " 'Tuples.ipynb',\n",
       " 'two.py',\n",
       " 'Web scraping exercise.ipynb',\n",
       " 'Web scraping.ipynb',\n",
       " 'Working with files.ipynb',\n",
       " 'Zip files with python.ipynb',\n",
       " '__name__ and __main__.ipynb',\n",
       " '__pycache__']"
      ]
     },
     "execution_count": 58,
     "metadata": {},
     "output_type": "execute_result"
    }
   ],
   "source": [
    "os.listdir()"
   ]
  },
  {
   "cell_type": "code",
   "execution_count": 59,
   "metadata": {},
   "outputs": [],
   "source": [
    "shutil.unpack_archive('mycompressed.zip','myextracted','zip')"
   ]
  },
  {
   "cell_type": "code",
   "execution_count": 60,
   "metadata": {},
   "outputs": [
    {
     "data": {
      "text/plain": [
       "['mymodule.py',\n",
       " '.git',\n",
       " '.ipynb_checkpoints',\n",
       " 'Basic operators and some basic inbuilt functions.ipynb',\n",
       " 'Caesar cipher.ipynb',\n",
       " 'Control flow and loops.ipynb',\n",
       " 'Date and time.ipynb',\n",
       " 'Dictionary.ipynb',\n",
       " 'Error handling, exceptions and debugging.ipynb',\n",
       " 'Functions.ipynb',\n",
       " 'image0.jpg',\n",
       " 'image1.jpg',\n",
       " 'image2.jpg',\n",
       " 'image3.jpg',\n",
       " 'Lambda expressions, map() and filter().ipynb',\n",
       " 'List comprehensions.ipynb',\n",
       " 'Lists.ipynb',\n",
       " 'Modules and packages.ipynb',\n",
       " 'mycompressed.zip',\n",
       " 'myextracted',\n",
       " 'MyFirstNotebook.ipynb',\n",
       " 'Nested statements and scopes.ipynb',\n",
       " 'one.py',\n",
       " 'OOP review exercise.ipynb',\n",
       " 'OOPS exercise.ipynb',\n",
       " 'Playing with basic datatypes.ipynb',\n",
       " 'Reading and writing files with os.ipynb',\n",
       " 'README.md',\n",
       " 'Regular expressions.ipynb',\n",
       " 'sample folder',\n",
       " 'samplefile.txt',\n",
       " 'Sets and booleans.ipynb',\n",
       " 'Test your basics.ipynb',\n",
       " 'Tuples.ipynb',\n",
       " 'two.py',\n",
       " 'Web scraping exercise.ipynb',\n",
       " 'Web scraping.ipynb',\n",
       " 'Working with files.ipynb',\n",
       " 'Zip files with python.ipynb',\n",
       " '__name__ and __main__.ipynb',\n",
       " '__pycache__']"
      ]
     },
     "execution_count": 60,
     "metadata": {},
     "output_type": "execute_result"
    }
   ],
   "source": [
    "os.listdir()"
   ]
  },
  {
   "cell_type": "code",
   "execution_count": 62,
   "metadata": {},
   "outputs": [
    {
     "data": {
      "text/plain": [
       "['file1.txt', 'file12.txt']"
      ]
     },
     "execution_count": 62,
     "metadata": {},
     "output_type": "execute_result"
    }
   ],
   "source": [
    "os.listdir('myextracted')"
   ]
  },
  {
   "cell_type": "code",
   "execution_count": 63,
   "metadata": {},
   "outputs": [],
   "source": [
    "shutil.rmtree('myextracted')"
   ]
  },
  {
   "cell_type": "code",
   "execution_count": 64,
   "metadata": {},
   "outputs": [],
   "source": [
    "os.unlink('mycompressed.zip')"
   ]
  },
  {
   "cell_type": "code",
   "execution_count": 65,
   "metadata": {},
   "outputs": [
    {
     "data": {
      "text/plain": [
       "['mymodule.py',\n",
       " '.git',\n",
       " '.ipynb_checkpoints',\n",
       " 'Basic operators and some basic inbuilt functions.ipynb',\n",
       " 'Caesar cipher.ipynb',\n",
       " 'Control flow and loops.ipynb',\n",
       " 'Date and time.ipynb',\n",
       " 'Dictionary.ipynb',\n",
       " 'Error handling, exceptions and debugging.ipynb',\n",
       " 'Functions.ipynb',\n",
       " 'image0.jpg',\n",
       " 'image1.jpg',\n",
       " 'image2.jpg',\n",
       " 'image3.jpg',\n",
       " 'Lambda expressions, map() and filter().ipynb',\n",
       " 'List comprehensions.ipynb',\n",
       " 'Lists.ipynb',\n",
       " 'Modules and packages.ipynb',\n",
       " 'MyFirstNotebook.ipynb',\n",
       " 'Nested statements and scopes.ipynb',\n",
       " 'one.py',\n",
       " 'OOP review exercise.ipynb',\n",
       " 'OOPS exercise.ipynb',\n",
       " 'Playing with basic datatypes.ipynb',\n",
       " 'Reading and writing files with os.ipynb',\n",
       " 'README.md',\n",
       " 'Regular expressions.ipynb',\n",
       " 'sample folder',\n",
       " 'samplefile.txt',\n",
       " 'Sets and booleans.ipynb',\n",
       " 'Test your basics.ipynb',\n",
       " 'Tuples.ipynb',\n",
       " 'two.py',\n",
       " 'Web scraping exercise.ipynb',\n",
       " 'Web scraping.ipynb',\n",
       " 'Working with files.ipynb',\n",
       " 'Zip files with python.ipynb',\n",
       " '__name__ and __main__.ipynb',\n",
       " '__pycache__']"
      ]
     },
     "execution_count": 65,
     "metadata": {},
     "output_type": "execute_result"
    }
   ],
   "source": [
    "os.listdir()"
   ]
  },
  {
   "cell_type": "code",
   "execution_count": null,
   "metadata": {},
   "outputs": [],
   "source": []
  }
 ],
 "metadata": {
  "kernelspec": {
   "display_name": "Python 3",
   "language": "python",
   "name": "python3"
  },
  "language_info": {
   "codemirror_mode": {
    "name": "ipython",
    "version": 3
   },
   "file_extension": ".py",
   "mimetype": "text/x-python",
   "name": "python",
   "nbconvert_exporter": "python",
   "pygments_lexer": "ipython3",
   "version": "3.7.3"
  }
 },
 "nbformat": 4,
 "nbformat_minor": 2
}
