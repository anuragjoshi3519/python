{
 "cells": [
  {
   "cell_type": "code",
   "execution_count": 1,
   "metadata": {},
   "outputs": [],
   "source": [
    "import os"
   ]
  },
  {
   "cell_type": "code",
   "execution_count": 2,
   "metadata": {},
   "outputs": [
    {
     "data": {
      "text/plain": [
       "['mymodule.py',\n",
       " '.git',\n",
       " '.ipynb_checkpoints',\n",
       " 'Basic operators and some basic inbuilt functions.ipynb',\n",
       " 'Caesar cipher.ipynb',\n",
       " 'Control flow and loops.ipynb',\n",
       " 'Date and time.ipynb',\n",
       " 'Dictionary.ipynb',\n",
       " 'Error handling, exceptions and debugging.ipynb',\n",
       " 'Five',\n",
       " 'Four',\n",
       " 'Functions.ipynb',\n",
       " 'image0.jpg',\n",
       " 'image1.jpg',\n",
       " 'image2.jpg',\n",
       " 'image3.jpg',\n",
       " 'Instructions.txt',\n",
       " 'Lambda expressions, map() and filter().ipynb',\n",
       " 'List comprehensions.ipynb',\n",
       " 'Lists.ipynb',\n",
       " 'Modules and packages.ipynb',\n",
       " 'myextracted',\n",
       " 'MyFirstNotebook.ipynb',\n",
       " 'Nested statements and scopes.ipynb',\n",
       " 'One',\n",
       " 'one.py',\n",
       " 'OOP review exercise.ipynb',\n",
       " 'OOPS exercise.ipynb',\n",
       " 'Playing with basic datatypes.ipynb',\n",
       " 'Reading and writing files with os.ipynb',\n",
       " 'README.md',\n",
       " 'Regular expressions.ipynb',\n",
       " 'sample folder',\n",
       " 'samplefile.txt',\n",
       " 'Sets and booleans.ipynb',\n",
       " 'Test your basics.ipynb',\n",
       " 'Three',\n",
       " 'Tuples.ipynb',\n",
       " 'Two',\n",
       " 'two.py',\n",
       " 'unzip_me_for_instructions.zip',\n",
       " 'Web scraping exercise.ipynb',\n",
       " 'Web scraping.ipynb',\n",
       " 'Working with files.ipynb',\n",
       " 'Zip file exercise.ipynb',\n",
       " 'Zip files with python.ipynb',\n",
       " '__name__ and __main__.ipynb',\n",
       " '__pycache__']"
      ]
     },
     "execution_count": 2,
     "metadata": {},
     "output_type": "execute_result"
    }
   ],
   "source": [
    "os.listdir()"
   ]
  },
  {
   "cell_type": "code",
   "execution_count": 3,
   "metadata": {},
   "outputs": [],
   "source": [
    "import zipfile"
   ]
  },
  {
   "cell_type": "code",
   "execution_count": 4,
   "metadata": {},
   "outputs": [],
   "source": [
    "import shutil"
   ]
  },
  {
   "cell_type": "code",
   "execution_count": 5,
   "metadata": {},
   "outputs": [],
   "source": [
    "zip_link = zipfile.ZipFile('unzip_me_for_instructions.zip','r')"
   ]
  },
  {
   "cell_type": "code",
   "execution_count": 6,
   "metadata": {},
   "outputs": [],
   "source": [
    "zip_link.extractall('myextracted')"
   ]
  },
  {
   "cell_type": "code",
   "execution_count": 7,
   "metadata": {},
   "outputs": [],
   "source": [
    "zip_link.close()"
   ]
  },
  {
   "cell_type": "code",
   "execution_count": 8,
   "metadata": {},
   "outputs": [
    {
     "data": {
      "text/plain": [
       "['mymodule.py',\n",
       " '.git',\n",
       " '.ipynb_checkpoints',\n",
       " 'Basic operators and some basic inbuilt functions.ipynb',\n",
       " 'Caesar cipher.ipynb',\n",
       " 'Control flow and loops.ipynb',\n",
       " 'Date and time.ipynb',\n",
       " 'Dictionary.ipynb',\n",
       " 'Error handling, exceptions and debugging.ipynb',\n",
       " 'Five',\n",
       " 'Four',\n",
       " 'Functions.ipynb',\n",
       " 'image0.jpg',\n",
       " 'image1.jpg',\n",
       " 'image2.jpg',\n",
       " 'image3.jpg',\n",
       " 'Instructions.txt',\n",
       " 'Lambda expressions, map() and filter().ipynb',\n",
       " 'List comprehensions.ipynb',\n",
       " 'Lists.ipynb',\n",
       " 'Modules and packages.ipynb',\n",
       " 'myextracted',\n",
       " 'MyFirstNotebook.ipynb',\n",
       " 'Nested statements and scopes.ipynb',\n",
       " 'One',\n",
       " 'one.py',\n",
       " 'OOP review exercise.ipynb',\n",
       " 'OOPS exercise.ipynb',\n",
       " 'Playing with basic datatypes.ipynb',\n",
       " 'Reading and writing files with os.ipynb',\n",
       " 'README.md',\n",
       " 'Regular expressions.ipynb',\n",
       " 'sample folder',\n",
       " 'samplefile.txt',\n",
       " 'Sets and booleans.ipynb',\n",
       " 'Test your basics.ipynb',\n",
       " 'Three',\n",
       " 'Tuples.ipynb',\n",
       " 'Two',\n",
       " 'two.py',\n",
       " 'unzip_me_for_instructions.zip',\n",
       " 'Web scraping exercise.ipynb',\n",
       " 'Web scraping.ipynb',\n",
       " 'Working with files.ipynb',\n",
       " 'Zip file exercise.ipynb',\n",
       " 'Zip files with python.ipynb',\n",
       " '__name__ and __main__.ipynb',\n",
       " '__pycache__']"
      ]
     },
     "execution_count": 8,
     "metadata": {},
     "output_type": "execute_result"
    }
   ],
   "source": [
    "os.listdir()"
   ]
  },
  {
   "cell_type": "code",
   "execution_count": 9,
   "metadata": {},
   "outputs": [
    {
     "data": {
      "text/plain": [
       "['Five', 'Four', 'Instructions.txt', 'One', 'Three', 'Two']"
      ]
     },
     "execution_count": 9,
     "metadata": {},
     "output_type": "execute_result"
    }
   ],
   "source": [
    "os.listdir('myextracted')"
   ]
  },
  {
   "cell_type": "code",
   "execution_count": 10,
   "metadata": {},
   "outputs": [],
   "source": [
    "f = open('./myextracted/Instructions.txt','r')"
   ]
  },
  {
   "cell_type": "code",
   "execution_count": 11,
   "metadata": {},
   "outputs": [
    {
     "data": {
      "text/plain": [
       "'If you are reading this, then you successfully were able to decipher the blog post on The Gold Bugs website to find the link. \\n\\nThe link led to a zip file. After unzipping the file you will notice this instructions.txt file and folders with many random txt files in them.\\n\\nHidden within the text of these files are two links. You should be able to use regex to find the url links which will lead to the next phase as you go through every .txt file programmatically.\\n\\nOne link leads to a download of a csv file, another to a set of instructions to follow for that csv file. \\n\\nThe links will be in this form (note these are examples of the url form, not the actual links):\\n\\nhttps://drive.google.com/open?id=1tWJBFrSQL06qTZgkohs4t_a5Cu84AheLo\\n\\nand\\n\\nhttps://docs.google.com/document/d/Q-DcxM17nJm_El0aGsNnY7FajaogRviwja/edit\\n\\nNote how they start with https:// and then have a series of characters, including dots, underscores, forward slashes, and dashes as well.\\nUse this information for your regular expressions.\\n\\nDownload the csv file and follow the instructions in the other link for the next steps.\\n\\nBest of luck.'"
      ]
     },
     "execution_count": 11,
     "metadata": {},
     "output_type": "execute_result"
    }
   ],
   "source": [
    "f.read()"
   ]
  },
  {
   "cell_type": "code",
   "execution_count": 12,
   "metadata": {},
   "outputs": [],
   "source": [
    "f.close()"
   ]
  },
  {
   "cell_type": "code",
   "execution_count": 13,
   "metadata": {},
   "outputs": [],
   "source": [
    "import re"
   ]
  },
  {
   "cell_type": "code",
   "execution_count": 34,
   "metadata": {},
   "outputs": [],
   "source": [
    "links = list()\n",
    "pattern = r'https://[-?/.=\\w]+'"
   ]
  },
  {
   "cell_type": "code",
   "execution_count": 35,
   "metadata": {},
   "outputs": [
    {
     "data": {
      "text/plain": [
       "[]"
      ]
     },
     "execution_count": 35,
     "metadata": {},
     "output_type": "execute_result"
    }
   ],
   "source": [
    "links"
   ]
  },
  {
   "cell_type": "code",
   "execution_count": 36,
   "metadata": {},
   "outputs": [],
   "source": [
    "for f,sf,fls in os.walk('myextracted'):\n",
    "    for file in fls:\n",
    "        path = f+'/'+file\n",
    "        with open(path,'r') as fl:\n",
    "                links.append(re.search(pattern,fl.read()))"
   ]
  },
  {
   "cell_type": "code",
   "execution_count": 37,
   "metadata": {},
   "outputs": [
    {
     "data": {
      "text/plain": [
       "[<re.Match object; span=(672, 739), match='https://drive.google.com/open?id=1tWJBFrSQL06qTZg>,\n",
       " None,\n",
       " None,\n",
       " None,\n",
       " None,\n",
       " None,\n",
       " None,\n",
       " None,\n",
       " None,\n",
       " None,\n",
       " None,\n",
       " <re.Match object; span=(3160, 3256), match='https://docs.google.com/document/d/1tWJBFrSQL06qT>,\n",
       " None,\n",
       " None,\n",
       " None,\n",
       " None,\n",
       " None,\n",
       " None,\n",
       " None,\n",
       " None,\n",
       " None,\n",
       " None,\n",
       " None,\n",
       " None,\n",
       " None,\n",
       " None,\n",
       " None,\n",
       " None,\n",
       " None,\n",
       " None,\n",
       " None,\n",
       " None,\n",
       " None,\n",
       " None,\n",
       " None,\n",
       " None,\n",
       " None,\n",
       " None,\n",
       " None,\n",
       " None,\n",
       " None,\n",
       " None,\n",
       " None,\n",
       " None,\n",
       " None,\n",
       " None,\n",
       " None,\n",
       " None,\n",
       " None,\n",
       " None,\n",
       " None,\n",
       " None,\n",
       " None,\n",
       " None,\n",
       " None,\n",
       " None,\n",
       " None,\n",
       " None,\n",
       " None,\n",
       " None,\n",
       " None,\n",
       " None,\n",
       " None,\n",
       " None,\n",
       " None,\n",
       " None,\n",
       " None,\n",
       " None,\n",
       " None,\n",
       " None,\n",
       " None,\n",
       " None,\n",
       " None,\n",
       " None,\n",
       " None,\n",
       " None,\n",
       " None,\n",
       " None,\n",
       " None,\n",
       " None,\n",
       " None,\n",
       " <re.Match object; span=(2127, 2209), match='https://drive.google.com/file/d/17nJm_El0aGsNvaMZ>,\n",
       " None,\n",
       " None,\n",
       " None,\n",
       " None,\n",
       " None,\n",
       " None,\n",
       " None,\n",
       " None,\n",
       " None,\n",
       " None,\n",
       " None,\n",
       " None,\n",
       " None,\n",
       " None,\n",
       " None,\n",
       " None,\n",
       " None,\n",
       " None,\n",
       " None,\n",
       " None,\n",
       " None,\n",
       " None,\n",
       " None,\n",
       " None,\n",
       " None,\n",
       " None,\n",
       " None,\n",
       " None,\n",
       " None,\n",
       " None,\n",
       " None,\n",
       " None,\n",
       " None,\n",
       " None,\n",
       " None,\n",
       " None,\n",
       " None,\n",
       " None,\n",
       " None]"
      ]
     },
     "execution_count": 37,
     "metadata": {},
     "output_type": "execute_result"
    }
   ],
   "source": [
    "links"
   ]
  },
  {
   "cell_type": "code",
   "execution_count": 38,
   "metadata": {},
   "outputs": [
    {
     "name": "stdout",
     "output_type": "stream",
     "text": [
      "https://drive.google.com/open?id=1tWJBFrSQL06qTZgkohs4t_a5Cu84AheLo\n",
      "https://docs.google.com/document/d/1tWJBFrSQL06qTZgkohs4t_a5Cu84AheLocWTXQ-DcxM/edit?usp=sharing\n",
      "https://drive.google.com/file/d/17nJm_El0aGsNvaMZtnY7FajaogRviwja/view?usp=sharing\n"
     ]
    }
   ],
   "source": [
    "for link in links:\n",
    "    if link != None:\n",
    "        print(link.group())"
   ]
  }
 ],
 "metadata": {
  "kernelspec": {
   "display_name": "Python 3",
   "language": "python",
   "name": "python3"
  },
  "language_info": {
   "codemirror_mode": {
    "name": "ipython",
    "version": 3
   },
   "file_extension": ".py",
   "mimetype": "text/x-python",
   "name": "python",
   "nbconvert_exporter": "python",
   "pygments_lexer": "ipython3",
   "version": "3.7.3"
  }
 },
 "nbformat": 4,
 "nbformat_minor": 2
}
