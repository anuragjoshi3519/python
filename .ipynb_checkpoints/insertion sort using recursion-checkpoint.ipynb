{
 "cells": [
  {
   "cell_type": "code",
   "execution_count": 1,
   "metadata": {},
   "outputs": [],
   "source": [
    "def shifter(mylist,index):\n",
    "    '''\n",
    "    objective: to shift left the element to its right place in a list presorted before the index \n",
    "    input: a list and an index position which needs to be shifted\n",
    "    output: no output this is inplace i.e. original list will be mutated\n",
    "    '''\n",
    "    '''\n",
    "    approach: using recursion only\n",
    "    '''\n",
    "    if index>0:\n",
    "        if(mylist[index]<mylist[index-1]):\n",
    "            mylist[index]^=mylist[index-1]\n",
    "            mylist[index-1]^=mylist[index]\n",
    "            mylist[index]^=mylist[index-1]\n",
    "            shifter(mylist,index-1)\n",
    "def insertionSort(mylist,index=1):\n",
    "    '''\n",
    "    objective: to implement insertion sort\n",
    "    input: an unsorted list\n",
    "    output: no output this is inplace i.e. original list will be mutated\n",
    "    '''\n",
    "    '''\n",
    "    approach: using recursion only\n",
    "    '''\n",
    "\n",
    "    if(index<len(mylist)):\n",
    "        shifter(mylist,index)\n",
    "        insertionSort(mylist,index+1)"
   ]
  },
  {
   "cell_type": "code",
   "execution_count": 2,
   "metadata": {},
   "outputs": [
    {
     "data": {
      "text/plain": [
       "[1, 2, 3, 5, 6, 6]"
      ]
     },
     "execution_count": 2,
     "metadata": {},
     "output_type": "execute_result"
    }
   ],
   "source": [
    "mylist=[1,6,3,2,6,5]\n",
    "insertionSort(mylist)\n",
    "mylist"
   ]
  },
  {
   "cell_type": "code",
   "execution_count": null,
   "metadata": {},
   "outputs": [],
   "source": []
  }
 ],
 "metadata": {
  "kernelspec": {
   "display_name": "Python 3",
   "language": "python",
   "name": "python3"
  },
  "language_info": {
   "codemirror_mode": {
    "name": "ipython",
    "version": 3
   },
   "file_extension": ".py",
   "mimetype": "text/x-python",
   "name": "python",
   "nbconvert_exporter": "python",
   "pygments_lexer": "ipython3",
   "version": "3.7.3"
  }
 },
 "nbformat": 4,
 "nbformat_minor": 2
}
