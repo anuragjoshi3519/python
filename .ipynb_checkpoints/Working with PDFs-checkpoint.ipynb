{
 "cells": [
  {
   "cell_type": "markdown",
   "metadata": {},
   "source": [
    "!pip install PyPDF2"
   ]
  },
  {
   "cell_type": "code",
   "execution_count": 1,
   "metadata": {},
   "outputs": [],
   "source": [
    "import PyPDF2"
   ]
  },
  {
   "cell_type": "code",
   "execution_count": 14,
   "metadata": {},
   "outputs": [],
   "source": [
    "f = open('sample.pdf','rb')"
   ]
  },
  {
   "cell_type": "code",
   "execution_count": 15,
   "metadata": {},
   "outputs": [],
   "source": [
    "# We need to open pdf files in 'rb' mode i.e. binary"
   ]
  },
  {
   "cell_type": "code",
   "execution_count": 16,
   "metadata": {},
   "outputs": [],
   "source": [
    "pdf_reader = PyPDF2.PdfFileReader(f)"
   ]
  },
  {
   "cell_type": "code",
   "execution_count": 17,
   "metadata": {},
   "outputs": [
    {
     "data": {
      "text/plain": [
       "61"
      ]
     },
     "execution_count": 17,
     "metadata": {},
     "output_type": "execute_result"
    }
   ],
   "source": [
    "pdf_reader.numPages"
   ]
  },
  {
   "cell_type": "code",
   "execution_count": 18,
   "metadata": {},
   "outputs": [],
   "source": [
    "first_page = pdf_reader.getPage(0).extractText()"
   ]
  },
  {
   "cell_type": "code",
   "execution_count": 19,
   "metadata": {},
   "outputs": [
    {
     "name": "stdout",
     "output_type": "stream",
     "text": [
      "Those Who Seek The Truth \n",
      "Will Find It.\n",
      " Hidden in Plain Sight. You Must Find The Contact.\n",
      " Hypatia sed quia consequuntur magni dolores eos qui ratione voluptatem sequi \n",
      "nesciunt. Neque porro quisquam est, a still more glorious dawn awaits birth? Vastness \n",
      "is bearable only through love? Dream of the mind's eye Orion's sword! At the edge of \n",
      "forever, star stu\n",
      "! harvesting star light. Network of wormholes dispassionate extraterrestrial observer Jean-Francois Champollion network of wormholes, radio \n",
      "telescope? The carbon in our apple pies! Consciousness Flatland Hypatia, another world courage of our questions? Take root and ßourish venture! Flatland sed quia non \n",
      "numquam eius modi tempora incidunt ut labore et dolore magnam aliquam quaerat \n",
      "voluptatem. Ut enim ad minima veniam hundreds of thousands how far away intelligent \n",
      "beings.\"Rich in mystery, how far away gathered by gravity, Sea of Tranquility Euclid. From \n",
      "which we spring. Vanquish the impossible great turbulent clouds Sea of Tranquility star \n",
      "stu! harvesting star light birth emerged into consciousness, kindling the energy hidden \n",
      "in matter take root and ßourish from which we spring consectetur adipisicing elit muse \n",
      "about, galaxies. Consciousness birth permanence of the stars, made in the interiors of collapsing stars, something incredible is waiting to be known consectetur take root and \n",
      "ßourish, dream of the mind's eye descended from astronomers.com\n",
      "\"Worldlets paroxysm of global death dream of the mind's eye, gathered by gravity \n",
      "encyclopaedia galactica trillion. Orion's sword globular star cluster another world \n",
      "cosmic fugue vastness is bearable only through love qui dolorem ipsum quia dolor sit \n",
      "amet Flatland, corpus callosum ship of the imagination a still more glorious dawn \n",
      "awaits kindling the energy hidden in matter Rig Veda, Hypatia galaxies, inconspicuous \n",
      "motes of rock and gas, galaxies decipherment, Tunguska event, cosmic ocean. \n",
      "Courage of our questions sed quia consequuntur magni dolores eos qui ratione \n",
      "voluptatem sequi nesciunt. Neque porro quisquam est.\n",
      "\"Made in the interiors of collapsing stars two ghostly white Þgures in coveralls and \n",
      "helmets are soßty dancing, Orion's sword the carbon in our apple pies! Courage of our \n",
      "questions, Euclid! Cambrian explosion are creatures of the cosmos. Cosmic ocean \n",
      "dream of the mind's eye Orion's sword. Cosmos. Culture muse about, rich in mystery \n",
      "paroxysm of global death? Euclid decipherment take root and ßourish science \n",
      "permanence of the stars venture Sea of Tranquility eaque ipsa quae ab illo inventore \n",
      "veritatis et quasi architecto beatae vitae dicta sunt explicabo. Nemo enim ipsam \n",
      "voluptatem quia voluptas sit aspernatur aut odit aut fugit adipisci velit radio telescope \n",
      "at the edge of forever, the sky calls to us white dwarf!\n",
      "\"Apollonius of Perga, extraplanetary take root and ßourish permanence of the stars Þnite \n",
      "but unbounded sunt in culpa qui o#cia deserunt mollit anim id est laborum. Sed ut perspiciatis unde omnis iste natus error sit voluptatem accusantium doloremque \n",
      "laudantium, citizens of distant epochs great turbulent clouds, courage of our questions \n",
      "LOOK FOR THE CONTACT\n",
      "!1\n"
     ]
    }
   ],
   "source": [
    "print(first_page)"
   ]
  },
  {
   "cell_type": "code",
   "execution_count": 20,
   "metadata": {},
   "outputs": [],
   "source": [
    "myfile = open('makeup.pdf','wb')"
   ]
  },
  {
   "cell_type": "code",
   "execution_count": 21,
   "metadata": {},
   "outputs": [],
   "source": [
    "pdf_writer = PyPDF2.PdfFileWriter()"
   ]
  },
  {
   "cell_type": "code",
   "execution_count": 22,
   "metadata": {
    "scrolled": true
   },
   "outputs": [],
   "source": [
    "pdf_writer.addPage(pdf_reader.getPage(0))"
   ]
  },
  {
   "cell_type": "code",
   "execution_count": 23,
   "metadata": {},
   "outputs": [],
   "source": [
    "pdf_writer.write(myfile)"
   ]
  },
  {
   "cell_type": "code",
   "execution_count": 24,
   "metadata": {},
   "outputs": [],
   "source": [
    "myfile.close()"
   ]
  },
  {
   "cell_type": "code",
   "execution_count": 25,
   "metadata": {},
   "outputs": [],
   "source": [
    "f.close()"
   ]
  },
  {
   "cell_type": "code",
   "execution_count": null,
   "metadata": {},
   "outputs": [],
   "source": []
  }
 ],
 "metadata": {
  "kernelspec": {
   "display_name": "Python 3",
   "language": "python",
   "name": "python3"
  },
  "language_info": {
   "codemirror_mode": {
    "name": "ipython",
    "version": 3
   },
   "file_extension": ".py",
   "mimetype": "text/x-python",
   "name": "python",
   "nbconvert_exporter": "python",
   "pygments_lexer": "ipython3",
   "version": "3.7.3"
  }
 },
 "nbformat": 4,
 "nbformat_minor": 2
}
