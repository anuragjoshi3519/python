{
 "cells": [
  {
   "cell_type": "markdown",
   "metadata": {},
   "source": [
    "# Task\n",
    "\n",
    "Using object oriented programming to create an object that uses a modified ceaser cipher. The basic idea is follwing, given a message such as 'hello world', the encryption should perform the following steps:\n",
    "\n",
    "The encryption method you will create:\n",
    "\n",
    "1. Accept a string, such as: 'hello world'\n",
    "2. Add in a random letter in every other index position in the string, for example: 'hueqlzlpom cwgosrhlbdg'\n",
    "3. Then reverse this string, for example: 'gdblhrsogwc moplzqeuh'\n",
    "4. Then create a shuffled version of the alphabet (remember to set a seed to the random.seed() so you can get this shuffled version again by providing the same seed number).\n",
    "5. Just like a classic ceaser cipher, match up the index of each letter and then encrypt the letters using this shuffled alphabet.\n",
    "\n",
    "To decrypt this, reverse the steps. The hardest step to reverse is the randomized shuffling of the alphabet, to regain the same shuffling, you will need the seed key. The method for the decryption will accept this as an argument."
   ]
  },
  {
   "cell_type": "code",
   "execution_count": 1,
   "metadata": {},
   "outputs": [],
   "source": [
    "import random\n",
    "import string"
   ]
  },
  {
   "cell_type": "code",
   "execution_count": 2,
   "metadata": {},
   "outputs": [],
   "source": [
    "import pdb"
   ]
  },
  {
   "cell_type": "code",
   "execution_count": 65,
   "metadata": {},
   "outputs": [],
   "source": [
    "class Encryption():\n",
    "    \n",
    "    def __init__(self, seed):\n",
    "        self.seed = seed\n",
    "        random.seed(seed)\n",
    "        self.encrypted = \"\"\n",
    "        self.alphas = list(string.ascii_lowercase)\n",
    "        self.shuf_alphas = random.sample(self.alphas,len(self.alphas))\n",
    "        \n",
    "        \n",
    "    def encryption(self, text):\n",
    "        text = list(text)\n",
    "        for i in range(1,2*len(text),2):\n",
    "            text.insert(i,random.choice(self.alphas)) \n",
    "        text.reverse()\n",
    "        self.encrypted = ''.join(text)\n",
    "        #print(self.encrypted)\n",
    "        enc2 = [self.shuf_alphas[self.alphas.index(letter)] if letter in self.alphas else letter for letter in self.encrypted]\n",
    "        self.encrypted = ''.join(enc2)\n",
    "        return self.encrypted\n",
    "    \n",
    "    def decryption(self, text):\n",
    "        enc = [self.alphas[self.shuf_alphas.index(letter)] if letter in self.shuf_alphas else letter for letter in text]\n",
    "        #print(enc)\n",
    "        enc.reverse()\n",
    "        #print(enc)\n",
    "        enc = [letter for i,letter in enumerate(enc) if i%2==0]\n",
    "        return ''.join(enc)"
   ]
  },
  {
   "cell_type": "code",
   "execution_count": 66,
   "metadata": {},
   "outputs": [],
   "source": [
    "e = Encryption(4)"
   ]
  },
  {
   "cell_type": "code",
   "execution_count": 67,
   "metadata": {
    "scrolled": true
   },
   "outputs": [
    {
     "data": {
      "text/plain": [
       "'gmdqqfzxbsw wxeqcqapvt'"
      ]
     },
     "execution_count": 67,
     "metadata": {},
     "output_type": "execute_result"
    }
   ],
   "source": [
    "e.encryption('hello world')"
   ]
  },
  {
   "cell_type": "code",
   "execution_count": 68,
   "metadata": {},
   "outputs": [
    {
     "data": {
      "text/plain": [
       "'hello world'"
      ]
     },
     "execution_count": 68,
     "metadata": {},
     "output_type": "execute_result"
    }
   ],
   "source": [
    "e.decryption('gmdqqfzxbsw wxeqcqapvt')"
   ]
  },
  {
   "cell_type": "code",
   "execution_count": null,
   "metadata": {},
   "outputs": [],
   "source": []
  }
 ],
 "metadata": {
  "kernelspec": {
   "display_name": "Python 3",
   "language": "python",
   "name": "python3"
  },
  "language_info": {
   "codemirror_mode": {
    "name": "ipython",
    "version": 3
   },
   "file_extension": ".py",
   "mimetype": "text/x-python",
   "name": "python",
   "nbconvert_exporter": "python",
   "pygments_lexer": "ipython3",
   "version": "3.7.3"
  }
 },
 "nbformat": 4,
 "nbformat_minor": 2
}
