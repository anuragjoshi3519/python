{
 "cells": [
  {
   "cell_type": "code",
   "execution_count": null,
   "metadata": {},
   "outputs": [],
   "source": [
    "!pip install matplotlib"
   ]
  },
  {
   "cell_type": "code",
   "execution_count": 2,
   "metadata": {},
   "outputs": [],
   "source": [
    "import math"
   ]
  },
  {
   "cell_type": "code",
   "execution_count": 3,
   "metadata": {},
   "outputs": [],
   "source": [
    "import matplotlib.pyplot as pyplot"
   ]
  },
  {
   "cell_type": "code",
   "execution_count": 4,
   "metadata": {},
   "outputs": [],
   "source": [
    "class Analyse():\n",
    "    \n",
    "    def __init__(self):\n",
    "        self.iterations = list()\n",
    "        self.test_cases = list()\n",
    "        \n",
    "    def check_prime(self):\n",
    "        for n in range(pow(2,32),pow(2,128),100):\n",
    "            i = 0\n",
    "            for i in range(2,math.floor(math.sqrt(n))):\n",
    "                if n%i == 0:\n",
    "                    break\n",
    "            self.iterations.append(i)\n",
    "            self.test_cases.append(n)\n",
    "            \n",
    "    def plot_graph(self):\n",
    "        pyplot.scatter(self.test_cases, self.iterations, label= \"stars\", color= \"green\",marker= \"*\", s=30) \n",
    "        pyplot.xlabel('numbers checked for prime')\n",
    "        pyplot.ylabel('iterations')\n",
    "        pyplot.legend()\n",
    "        pyplot.show()"
   ]
  },
  {
   "cell_type": "code",
   "execution_count": 5,
   "metadata": {},
   "outputs": [],
   "source": [
    "x = Analyse()"
   ]
  },
  {
   "cell_type": "code",
   "execution_count": null,
   "metadata": {},
   "outputs": [],
   "source": [
    "x.check_prime()"
   ]
  },
  {
   "cell_type": "code",
   "execution_count": null,
   "metadata": {},
   "outputs": [],
   "source": []
  }
 ],
 "metadata": {
  "kernelspec": {
   "display_name": "Python 3",
   "language": "python",
   "name": "python3"
  },
  "language_info": {
   "codemirror_mode": {
    "name": "ipython",
    "version": 3
   },
   "file_extension": ".py",
   "mimetype": "text/x-python",
   "name": "python",
   "nbconvert_exporter": "python",
   "pygments_lexer": "ipython3",
   "version": "3.7.3"
  }
 },
 "nbformat": 4,
 "nbformat_minor": 2
}
