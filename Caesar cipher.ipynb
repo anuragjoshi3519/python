{
 "cells": [
  {
   "cell_type": "code",
   "execution_count": 1,
   "metadata": {},
   "outputs": [],
   "source": [
    "import string"
   ]
  },
  {
   "cell_type": "code",
   "execution_count": 2,
   "metadata": {},
   "outputs": [],
   "source": [
    "def encrypt(text, shift):\n",
    "    key = string.ascii_lowercase\n",
    "    value = key[len(key)-shift:] + key[0:len(key)-shift]\n",
    "    d = dict(zip(key, value))\n",
    "    result = [d[letter] if letter in string.ascii_lowercase else letter for letter in text]\n",
    "    return \"\".join(result)"
   ]
  },
  {
   "cell_type": "code",
   "execution_count": 3,
   "metadata": {},
   "outputs": [
    {
     "data": {
      "text/plain": [
       "'vti iwxh bthhpvt id iwt bpxc htgktg'"
      ]
     },
     "execution_count": 3,
     "metadata": {},
     "output_type": "execute_result"
    }
   ],
   "source": [
    "encrypt(\"get this message to the main server\",11)"
   ]
  },
  {
   "cell_type": "code",
   "execution_count": 4,
   "metadata": {},
   "outputs": [],
   "source": [
    "def decrypt(text, shift):\n",
    "    key = string.ascii_lowercase\n",
    "    value = key[len(key)-shift:] + key[:len(key)-shift]\n",
    "    d = dict(zip(value, key))\n",
    "    result = [d[letter] if letter in string.ascii_lowercase else letter for letter in text]\n",
    "    return \"\".join(result)"
   ]
  },
  {
   "cell_type": "code",
   "execution_count": 5,
   "metadata": {},
   "outputs": [
    {
     "data": {
      "text/plain": [
       "'get this message to the main server'"
      ]
     },
     "execution_count": 5,
     "metadata": {},
     "output_type": "execute_result"
    }
   ],
   "source": [
    "decrypt(\"vti iwxh bthhpvt id iwt bpxc htgktg\",11)"
   ]
  },
  {
   "cell_type": "code",
   "execution_count": 6,
   "metadata": {},
   "outputs": [],
   "source": [
    "def brute_force(message):\n",
    "    for i in range(0, len(message)):\n",
    "        key = string.ascii_lowercase\n",
    "        value = key[len(key)-i:] + key[:len(key)-i]\n",
    "        d = dict(zip(value, key))\n",
    "        print('for shift value = {}'.format(i), \"\\n\" + \"\".join([d[letter] if letter in string.ascii_lowercase else letter for letter in message]))\n",
    "        "
   ]
  },
  {
   "cell_type": "code",
   "execution_count": 7,
   "metadata": {},
   "outputs": [
    {
     "name": "stdout",
     "output_type": "stream",
     "text": [
      "for shift value = 0 \n",
      "vti iwxh bthhpvt id iwt bpxc htgktg\n",
      "for shift value = 1 \n",
      "wuj jxyi cuiiqwu je jxu cqyd iuhluh\n",
      "for shift value = 2 \n",
      "xvk kyzj dvjjrxv kf kyv drze jvimvi\n",
      "for shift value = 3 \n",
      "ywl lzak ewkksyw lg lzw esaf kwjnwj\n",
      "for shift value = 4 \n",
      "zxm mabl fxlltzx mh max ftbg lxkoxk\n",
      "for shift value = 5 \n",
      "ayn nbcm gymmuay ni nby guch mylpyl\n",
      "for shift value = 6 \n",
      "bzo ocdn hznnvbz oj ocz hvdi nzmqzm\n",
      "for shift value = 7 \n",
      "cap pdeo iaoowca pk pda iwej oanran\n",
      "for shift value = 8 \n",
      "dbq qefp jbppxdb ql qeb jxfk pbosbo\n",
      "for shift value = 9 \n",
      "ecr rfgq kcqqyec rm rfc kygl qcptcp\n",
      "for shift value = 10 \n",
      "fds sghr ldrrzfd sn sgd lzhm rdqudq\n",
      "for shift value = 11 \n",
      "get this message to the main server\n",
      "for shift value = 12 \n",
      "hfu uijt nfttbhf up uif nbjo tfswfs\n",
      "for shift value = 13 \n",
      "igv vjku oguucig vq vjg ockp ugtxgt\n",
      "for shift value = 14 \n",
      "jhw wklv phvvdjh wr wkh pdlq vhuyhu\n",
      "for shift value = 15 \n",
      "kix xlmw qiwweki xs xli qemr wivziv\n",
      "for shift value = 16 \n",
      "ljy ymnx rjxxflj yt ymj rfns xjwajw\n",
      "for shift value = 17 \n",
      "mkz znoy skyygmk zu znk sgot ykxbkx\n",
      "for shift value = 18 \n",
      "nla aopz tlzzhnl av aol thpu zlycly\n",
      "for shift value = 19 \n",
      "omb bpqa umaaiom bw bpm uiqv amzdmz\n",
      "for shift value = 20 \n",
      "pnc cqrb vnbbjpn cx cqn vjrw bnaena\n",
      "for shift value = 21 \n",
      "qod drsc wocckqo dy dro wksx cobfob\n",
      "for shift value = 22 \n",
      "rpe estd xpddlrp ez esp xlty dpcgpc\n",
      "for shift value = 23 \n",
      "sqf ftue yqeemsq fa ftq ymuz eqdhqd\n",
      "for shift value = 24 \n",
      "trg guvf zrffntr gb gur znva freire\n",
      "for shift value = 25 \n",
      "ush hvwg asggous hc hvs aowb gsfjsf\n",
      "for shift value = 26 \n",
      "vti iwxh bthhpvt id iwt bpxc htgktg\n",
      "for shift value = 27 \n",
      "wuj jxyi cuiiqwu je jxu cqyd iuhluh\n",
      "for shift value = 28 \n",
      "xvk kyzj dvjjrxv kf kyv drze jvimvi\n",
      "for shift value = 29 \n",
      "ywl lzak ewkksyw lg lzw esaf kwjnwj\n",
      "for shift value = 30 \n",
      "zxm mabl fxlltzx mh max ftbg lxkoxk\n",
      "for shift value = 31 \n",
      "ayn nbcm gymmuay ni nby guch mylpyl\n",
      "for shift value = 32 \n",
      "bzo ocdn hznnvbz oj ocz hvdi nzmqzm\n",
      "for shift value = 33 \n",
      "cap pdeo iaoowca pk pda iwej oanran\n",
      "for shift value = 34 \n",
      "dbq qefp jbppxdb ql qeb jxfk pbosbo\n"
     ]
    }
   ],
   "source": [
    "brute_force(\"vti iwxh bthhpvt id iwt bpxc htgktg\")"
   ]
  },
  {
   "cell_type": "code",
   "execution_count": 8,
   "metadata": {},
   "outputs": [
    {
     "name": "stdout",
     "output_type": "stream",
     "text": [
      "Help on built-in function print in module builtins:\n",
      "\n",
      "print(...)\n",
      "    print(value, ..., sep=' ', end='\\n', file=sys.stdout, flush=False)\n",
      "    \n",
      "    Prints the values to a stream, or to sys.stdout by default.\n",
      "    Optional keyword arguments:\n",
      "    file:  a file-like object (stream); defaults to the current sys.stdout.\n",
      "    sep:   string inserted between values, default a space.\n",
      "    end:   string appended after the last value, default a newline.\n",
      "    flush: whether to forcibly flush the stream.\n",
      "\n"
     ]
    }
   ],
   "source": [
    "help(print)"
   ]
  },
  {
   "cell_type": "code",
   "execution_count": null,
   "metadata": {},
   "outputs": [],
   "source": []
  }
 ],
 "metadata": {
  "kernelspec": {
   "display_name": "Python 3",
   "language": "python",
   "name": "python3"
  },
  "language_info": {
   "codemirror_mode": {
    "name": "ipython",
    "version": 3
   },
   "file_extension": ".py",
   "mimetype": "text/x-python",
   "name": "python",
   "nbconvert_exporter": "python",
   "pygments_lexer": "ipython3",
   "version": "3.7.3"
  }
 },
 "nbformat": 4,
 "nbformat_minor": 2
}
